```json
{
 "cells": [
  {
   "cell_type": "markdown",
   "metadata": {},
   "source": [
    "# Spectral-Spatial Pulse Design Demo\n",
    "\n",
    "This notebook demonstrates how to use the `spectralspatial` PyTorch toolbox to design spectral-spatial RF pulses for MRI."
   ]
  },
  {
   "cell_type": "markdown",
   "metadata": {},
   "source": [
    "## Installation\n",
    "\n",
    "Make sure you have installed the necessary dependencies:\n",
    "\n",
    "```bash\n",
    "pip install torch numpy matplotlib\n",
    "```\n",
    "\n",
    "Clone the repository if you haven't already:\n",
    "\n",
    "```bash\n",
    "git clone https://github.com/kaggie/spectralspatial.git\n",
    "cd spectralspatial\n",
    "```\n"
   ]
  },
  {
   "cell_type": "code",
   "execution_count": null,
   "metadata": {},
   "outputs": [],
   "source": [
    "# Add spectralspatial to your path (if running from outside the repo directory)\n",
    "import sys\n",
    "sys.path.append(\"../\")  # Adjust as needed"
   ]
  },
  {
   "cell_type": "markdown",
   "metadata": {},
   "source": [
    "## 1. Import the Toolbox"
   ]
  },
  {
   "cell_type": "code",
   "execution_count": null,
   "metadata": {},
   "outputs": [],
   "source": [
    "from spectral_spatial_designer import SpectralSpatialPulseDesigner\n",
    "import torch\n",
    "import matplotlib.pyplot as plt"
   ]
  },
  {
   "cell_type": "markdown",
   "metadata": {},
   "source": [
    "## 2. Set Up the Designer"
   ]
  },
  {
   "cell_type": "code",
   "execution_count": null,
   "metadata": {},
   "outputs": [],
   "source": [
    "designer = SpectralSpatialPulseDesigner(\n",
    "    dt=4e-6,                  # Time step (s)\n",
    "    gamma_hz_g=4257.0,        # Gyromagnetic ratio (Hz/G)\n",
    "    max_grad_g_cm=5.0,        # Max gradient (G/cm)\n",
    "    max_slew_g_cm_ms=20.0,    # Max slew rate (G/cm/ms)\n",
    "    max_b1_g=0.15,            # Max B1 amplitude (Gauss)\n",
    "    max_duration_s=20e-3,     # Max pulse duration (s)\n",
    "    device='cpu'              # Use 'cuda' if you want to run on GPU\n",
    ")"
   ]
  },
  {
   "cell_type": "markdown",
   "metadata": {},
   "source": [
    "## 3. Design a Water-Selective Spectral-Spatial Pulse\n",
    "\n",
    "This example designs a pulse that excites water (0 Hz) and suppresses fat (-440 Hz), using a Flyback Whole gradient scheme."
   ]
  },
  {
   "cell_type": "code",
   "execution_count": null,
   "metadata": {},
   "outputs": [],
   "source": [
    "pulse = designer.design_pulse(\n",
    "    spatial_thk_cm=0.5,\n",
    "    spatial_tbw=4,\n",
    "    spatial_ripple_pass=0.01,\n",
    "    spatial_ripple_stop=0.01,\n",
    "    spectral_freq_bands_hz=[-500, -420, -60, 60],  # Fat stop, water pass\n",
    "    spectral_amplitudes=[0, 1],\n",
    "    spectral_ripples=[0.01, 0.01],\n",
    "    nominal_flip_angle_rad=1.57,  # ~90 degrees\n",
    "    pulse_type='ex',\n",
    "    spatial_filter_type='pm',\n",
    "    spectral_filter_type='pm',\n",
    "    ss_type='Flyback Whole',\n",
    "    use_slr=False\n",
    ")"
   ]
  },
  {
   "cell_type": "markdown",
   "metadata": {},
   "source": [
    "## 4. Visualize the Designed RF and Gradient Waveforms"
   ]
  },
  {
   "cell_type": "code",
   "execution_count": null,
   "metadata": {},
   "outputs": [],
   "source": [
    "# Extract outputs\n",
    "rf = pulse['rf_G'].cpu().numpy()\n",
    "grad = pulse['grad_G_cm'].cpu().numpy()\n",
    "dt = designer.dt\n",
    "t = dt * np.arange(len(rf))\n",
    "\n",
    "plt.figure(figsize=(12,5))\n",
    "plt.subplot(2,1,1)\n",
    "plt.plot(t*1e3, rf.real, label='RF Real')\n",
    "plt.plot(t*1e3, rf.imag, label='RF Imag', linestyle='--')\n",
    "plt.title('Spectral-Spatial RF Pulse')\n",
    "plt.ylabel('B1 (Gauss)')\n",
    "plt.legend()\n",
    "\n",
    "plt.subplot(2,1,2)\n",
    "plt.plot(t*1e3, grad, color='g', label='Gradient')\n",
    "plt.title('Gradient Waveform')\n",
    "plt.xlabel('Time (ms)')\n",
    "plt.ylabel('G/cm')\n",
    "plt.tight_layout()\n",
    "plt.show()"
   ]
  },
  {
   "cell_type": "markdown",
   "metadata": {},
   "source": [
    "## 5. Design a Hyperpolarized 13C Pulse (Optional)\n",
    "\n",
    "You can try changing the spectral bands and flip angle for other applications, e.g., hyperpolarized carbon-13 MRI:"
   ]
  },
  {
   "cell_type": "code",
   "execution_count": null,
   "metadata": {},
   "outputs": [],
   "source": [
    "pulse_13c = designer.design_pulse(\n",
    "    spatial_thk_cm=1.0,\n",
    "    spatial_tbw=6,\n",
    "    spatial_ripple_pass=0.02,\n",
    "    spatial_ripple_stop=0.02,\n",
    "    spectral_freq_bands_hz=[-300, -200, 200, 300],\n",
    "    spectral_amplitudes=[1, 0],\n",
    "    spectral_ripples=[0.02, 0.02],\n",
    "    nominal_flip_angle_rad=0.35,  # Small flip for substrate preservation\n",
    "    pulse_type='ex',\n",
    "    spatial_filter_type='pm',\n",
    "    spectral_filter_type='pm',\n",
    "    ss_type='EP Whole',\n",
    "    use_slr=False\n",
    ")"
   ]
  }
 ],
 "metadata": {
  "kernelspec": {
   "display_name": "Python 3",
   "language": "python",
   "name": "python3"
  },
  "language_info": {
   "name": "python",
   "version": "3.9"
  }
 },
 "nbformat": 4,
 "nbformat_minor": 2
}
```
